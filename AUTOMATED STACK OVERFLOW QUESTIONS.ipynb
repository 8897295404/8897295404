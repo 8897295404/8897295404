{
 "cells": [
  {
   "cell_type": "markdown",
   "metadata": {},
   "source": [
    "# Adding needed Libraries"
   ]
  },
  {
   "cell_type": "code",
   "execution_count": 77,
   "metadata": {},
   "outputs": [],
   "source": [
    "#simply read pandas as pd1\n",
    "import pandas as pd1 "
   ]
  },
  {
   "cell_type": "markdown",
   "metadata": {},
   "source": [
    "# Reading data files"
   ]
  },
  {
   "cell_type": "code",
   "execution_count": 78,
   "metadata": {
    "scrolled": true
   },
   "outputs": [
    {
     "data": {
      "text/html": [
       "<div>\n",
       "<style scoped>\n",
       "    .dataframe tbody tr th:only-of-type {\n",
       "        vertical-align: middle;\n",
       "    }\n",
       "\n",
       "    .dataframe tbody tr th {\n",
       "        vertical-align: top;\n",
       "    }\n",
       "\n",
       "    .dataframe thead th {\n",
       "        text-align: right;\n",
       "    }\n",
       "</style>\n",
       "<table border=\"1\" class=\"dataframe\">\n",
       "  <thead>\n",
       "    <tr style=\"text-align: right;\">\n",
       "      <th></th>\n",
       "      <th>title</th>\n",
       "      <th>tags</th>\n",
       "    </tr>\n",
       "  </thead>\n",
       "  <tbody>\n",
       "    <tr>\n",
       "      <th>0</th>\n",
       "      <td>How to draw a stacked dotplot in R?</td>\n",
       "      <td>['r']</td>\n",
       "    </tr>\n",
       "    <tr>\n",
       "      <th>1</th>\n",
       "      <td>mysql select all records where a datetime fiel...</td>\n",
       "      <td>['php', 'mysql']</td>\n",
       "    </tr>\n",
       "  </tbody>\n",
       "</table>\n",
       "</div>"
      ],
      "text/plain": [
       "                                               title              tags\n",
       "0                How to draw a stacked dotplot in R?             ['r']\n",
       "1  mysql select all records where a datetime fiel...  ['php', 'mysql']"
      ]
     },
     "execution_count": 78,
     "metadata": {},
     "output_type": "execute_result"
    }
   ],
   "source": [
    "#to read data from the file\n",
    "data=pd1.read_csv('Stack_OverFlow_Data.csv') \n",
    "\n",
    "#print 2 rows in data file\n",
    "data.head(2) "
   ]
  },
  {
   "cell_type": "code",
   "execution_count": 79,
   "metadata": {},
   "outputs": [
    {
     "data": {
      "text/plain": [
       "Conversion failed when converting date and/or time from character string                               3\n",
       "Uncaught SyntaxError: Unexpected identifier                                                            2\n",
       "c# and excel automation - ending the running instance                                                  2\n",
       "JSON.parse: unexpected character                                                                       2\n",
       "Could not find default endpoint element that references contract                                       2\n",
       "Input string was not in a correct format                                                               2\n",
       "No rule to make target                                                                                 2\n",
       "JavaScript runtime error: '$' is undefined                                                             2\n",
       "Object reference not set to an instance of an object                                                   2\n",
       "Uncaught Reference Error: function is not defined                                                      2\n",
       "\"FormatException was unhandled\" Input string was not in a correct format                               2\n",
       "No such file or directory @ rb_sysopen                                                                 2\n",
       "The underlying connection was closed: The connection was closed unexpectedly                           2\n",
       "Cannot send session cookie - headers already sent                                                      2\n",
       "System.NullReferenceException: Object reference not set to an instance of an object                    2\n",
       "Iterate keys in a C++ map                                                                              1\n",
       "Autoimplement Swift protocol methods in XCode                                                          1\n",
       "Trying to add sum of all even integers between 2 and the input, and I just get the input back          1\n",
       "How to make an ASP:Repeater control editable using C# or VB.NET                                        1\n",
       "HttpClient Headers vs HttpRequestMessage Headers                                                       1\n",
       "Add Controls to WinForms dynamically in another Thread                                                 1\n",
       "Format money to currency in asp.net mvc c#                                                             1\n",
       "Java SSLException: hostname in certificate didn't match                                                1\n",
       "web method in webservice having object parameters calls dynamic binding                                1\n",
       "Android: How to set a default value for an argument variable                                           1\n",
       "How do I make the slugs work in django                                                                 1\n",
       "Why can't I access the array with index directly?                                                      1\n",
       "Extract file name from a path using regular expression                                                 1\n",
       "Run a C# program to launch another C# program in mono                                                  1\n",
       "window.location force to update?                                                                       1\n",
       "                                                                                                      ..\n",
       "String Comparison, .NET and non breaking space                                                         1\n",
       "Autogenerated default connection string vs. manually added one                                         1\n",
       "ListCtrl Hack: Set a ListItems Text in a ListCtrl                                                      1\n",
       "AJAX - PHP update of multiple divs                                                                     1\n",
       "C++: How can 2 classes call each other without redeclaration and without headers calling each other    1\n",
       "iFrame option in media plugin for TinyMCE                                                              1\n",
       "How to convert String Datetime to timestamp in Python?                                                 1\n",
       "Disable laravel error handler                                                                          1\n",
       "Things possible in Eclipse that aren’t possible in IntelliJ?                                           1\n",
       "Access last index value of dataframe                                                                   1\n",
       "How do I replace characters not in range [0x5E10, 0x7F35] with '*' in PHP?                             1\n",
       "PHP rounding error with simple multiplication                                                          1\n",
       "How can I use swedish letters with json_encode() in PHP?                                               1\n",
       "Websocket fails to connect on localhost in all browsers                                                1\n",
       "Printing out unicode from Java code issue in windows console                                           1\n",
       "IntelliJ Bug: Scala 145, Error:scalac: Scala compiler JARs not found                                   1\n",
       "Get integer array input from user in java                                                              1\n",
       "Uncaught TypeError: Cannot read property 'reset' of null in Javascript                                 1\n",
       "php - session, check for admin                                                                         1\n",
       "Is It Possible To Create a Custom File Type For a Program In VB                                        1\n",
       "Knockout.js incredibly slow under semi-large datasets                                                  1\n",
       "Javascript undefined object                                                                            1\n",
       "Client to client messaging in socket programming                                                       1\n",
       "setNeedsDisplay and subviews                                                                           1\n",
       "preg_replace(): No ending matching delimiter '&gt;'                                                    1\n",
       "Only accept numbers as GET-variable                                                                    1\n",
       "What is a CSRF token ? What is its importance and how does it work?                                    1\n",
       "Windows7 pthread.h not found                                                                           1\n",
       "Re-instantiate AngularJS Timer                                                                         1\n",
       "loading a div 1 minute after the page loads                                                            1\n",
       "Name: title, Length: 99984, dtype: int64"
      ]
     },
     "execution_count": 79,
     "metadata": {},
     "output_type": "execute_result"
    }
   ],
   "source": [
    "#finding the range  of data in file\n",
    "data.title.value_counts()"
   ]
  },
  {
   "cell_type": "markdown",
   "metadata": {},
   "source": [
    "# Dropping duplicates in data file"
   ]
  },
  {
   "cell_type": "code",
   "execution_count": 80,
   "metadata": {},
   "outputs": [
    {
     "data": {
      "text/plain": [
       "Disabling Alt+F4 function in key down event                                                                 1\n",
       "Update db/migrate after manually updating models?                                                           1\n",
       "web method in webservice having object parameters calls dynamic binding                                     1\n",
       "Angular 2: Debounce (ngModelChange)?                                                                        1\n",
       "Trying to add sum of all even integers between 2 and the input, and I just get the input back               1\n",
       "Autoimplement Swift protocol methods in XCode                                                               1\n",
       "How to make an ASP:Repeater control editable using C# or VB.NET                                             1\n",
       "Iterate keys in a C++ map                                                                                   1\n",
       "Add Controls to WinForms dynamically in another Thread                                                      1\n",
       "Format money to currency in asp.net mvc c#                                                                  1\n",
       "Java SSLException: hostname in certificate didn't match                                                     1\n",
       "HttpClient Headers vs HttpRequestMessage Headers                                                            1\n",
       "Android: How to set a default value for an argument variable                                                1\n",
       "How do I make the slugs work in django                                                                      1\n",
       "Why can't I access the array with index directly?                                                           1\n",
       "Extract file name from a path using regular expression                                                      1\n",
       "Run a C# program to launch another C# program in mono                                                       1\n",
       "window.location force to update?                                                                            1\n",
       "Twitter Bootstrap Modal within Modal?                                                                       1\n",
       "How to Convert Json string into C# object in MVC4                                                           1\n",
       "show category banner image on product pages woocommerce                                                     1\n",
       "What is the difference between lock(this) and lock(thisLock)?                                               1\n",
       "How to get PyCharm to auto-complete code in methods?                                                        1\n",
       "cost of fprintf                                                                                             1\n",
       "Fill rectangle with pattern in Java Swing                                                                   1\n",
       "Anonymous Types in a repeater - Eval? Dynamic?                                                              1\n",
       "Unable to get image in Canvas element to appear as DIV background image (HTML/Javascript)?                  1\n",
       "Why is this Java process failing to terminate?                                                              1\n",
       "Task (or thread) requires Wait or Join to work                                                              1\n",
       "Constantly getting 'Too many connections' in Django 1.4.20                                                  1\n",
       "                                                                                                           ..\n",
       "Search for a value in where clause from Serialized Array                                                    1\n",
       "Split word into syllables                                                                                   1\n",
       "How does the kernel know what is the current thread?                                                        1\n",
       "programmatically replace SELECT fields in sql query to determine number of results                          1\n",
       "Returning iTextSharp PDF as memorystream causes StreamNotSupported                                          1\n",
       "How to get a snapshot of network video stream with curl in c/c++ in windows?                                1\n",
       "How to create list of checkboxes                                                                            1\n",
       "Websocket fails to connect on localhost in all browsers                                                     1\n",
       "setNeedsDisplay and subviews                                                                                1\n",
       "Printing out unicode from Java code issue in windows console                                                1\n",
       "IntelliJ Bug: Scala 145, Error:scalac: Scala compiler JARs not found                                        1\n",
       "Get integer array input from user in java                                                                   1\n",
       "Uncaught TypeError: Cannot read property 'reset' of null in Javascript                                      1\n",
       "Things possible in Eclipse that aren’t possible in IntelliJ?                                                1\n",
       "php - session, check for admin                                                                              1\n",
       "Knockout.js incredibly slow under semi-large datasets                                                       1\n",
       "Javascript undefined object                                                                                 1\n",
       "Client to client messaging in socket programming                                                            1\n",
       "preg_replace(): No ending matching delimiter '&gt;'                                                         1\n",
       "apache shows the content of my public dir - rails + apache + passenger + local git + capistrano + ubuntu    1\n",
       "Only accept numbers as GET-variable                                                                         1\n",
       "What is a CSRF token ? What is its importance and how does it work?                                         1\n",
       "Windows7 pthread.h not found                                                                                1\n",
       "Re-instantiate AngularJS Timer                                                                              1\n",
       "Is It Possible To Create a Custom File Type For a Program In VB                                             1\n",
       "How to convert String Datetime to timestamp in Python?                                                      1\n",
       "ASP.NET MVC5/6 Routing based on Http Header values                                                          1\n",
       "iFrame option in media plugin for TinyMCE                                                                   1\n",
       "vector.push_back() intellisense error                                                                       1\n",
       "loading a div 1 minute after the page loads                                                                 1\n",
       "Name: title, Length: 99984, dtype: int64"
      ]
     },
     "execution_count": 80,
     "metadata": {},
     "output_type": "execute_result"
    }
   ],
   "source": [
    "#dropping duplicate values in the file\n",
    "data.title=data.title.drop_duplicates(keep='first') \n",
    "\n",
    "#after removing duplicate values and print the data in number\n",
    "data.title.value_counts() "
   ]
  },
  {
   "cell_type": "markdown",
   "metadata": {},
   "source": [
    "# Text Cleaning"
   ]
  },
  {
   "cell_type": "code",
   "execution_count": 81,
   "metadata": {},
   "outputs": [
    {
     "data": {
      "text/plain": [
       "['mysql',\n",
       " 'select',\n",
       " 'all',\n",
       " 'records',\n",
       " 'where',\n",
       " 'a',\n",
       " 'datetime',\n",
       " 'field',\n",
       " 'is',\n",
       " 'less',\n",
       " 'than',\n",
       " 'a',\n",
       " 'specified',\n",
       " 'value']"
      ]
     },
     "execution_count": 81,
     "metadata": {},
     "output_type": "execute_result"
    }
   ],
   "source": [
    "#It is regular expression used to preprocess the data\n",
    "import re \n",
    "\n",
    "#It is a natural language toolkit used to preprocess the data in file\n",
    "from nltk.corpus import stopwords \n",
    "from nltk.stem.snowball import SnowballStemmer \n",
    "from nltk.stem.wordnet import WordNetLemmatizer\n",
    "\n",
    "#create a function for pre_processing the data\n",
    "def preprocessing(strin):\n",
    "    \n",
    "#convert data into string\n",
    "    strin=str(strin)  \n",
    "    \n",
    "#convert string into lower case\n",
    "    strin=strin.lower()\n",
    "    \n",
    "#removing html tags\n",
    "    html_data=re.compile('<.*?>')   \n",
    "    \n",
    "#after cleaning data it is stored in cleaned_data\n",
    "    cleaned_data = re.sub(html_data,' ',strin) \n",
    "    \n",
    "    data_total=[]\n",
    "    \n",
    "    #data is splitted to find the matching tags\n",
    "    for j in cleaned_data.split(): \n",
    "        if j!='c++':\n",
    "            #cleaned the data for removing hast tags and other extremes\n",
    "            cleaned_data=re.sub('[^A-Za-z]+', '', j) \n",
    "             #clened data append to the list\n",
    "            data_total.append(cleaned_data)\n",
    "        else:\n",
    "            data_total.append(j) #if clause is not matched and other data source is stored here\n",
    "    return data_total\n",
    "stopped_data=set(stopwords.words('english')) #removing the stop_words in data\n",
    "sno_data=SnowballStemmer('english') \n",
    "preprocessing(data.title[1]) #printing the data after cleaning"
   ]
  },
  {
   "cell_type": "markdown",
   "metadata": {},
   "source": [
    "# Stemming the data"
   ]
  },
  {
   "cell_type": "code",
   "execution_count": 82,
   "metadata": {},
   "outputs": [],
   "source": [
    "def stem(strin): #create a function for stemming the data\n",
    "    data_total=[]  #creating a empty list\n",
    "    for _ in strin: #creating a loop\n",
    "        if _ not in stopped_data: \n",
    "            g=(sno_data.stem(_).encode('utf8')) #encoding the data into a clean file\n",
    "            data_total.append(g) #appending the data\n",
    "    g=b' '.join(data_total) #for our understanding appending 'b' to the data\n",
    "    return g"
   ]
  },
  {
   "cell_type": "code",
   "execution_count": 83,
   "metadata": {},
   "outputs": [],
   "source": [
    "last_data=[] #creating a empty list\n",
    "for _ in data.title: #create function for training the data\n",
    "    last_data.append(stem(preprocessing(_))) #function calling"
   ]
  },
  {
   "cell_type": "code",
   "execution_count": 84,
   "metadata": {},
   "outputs": [],
   "source": [
    "data['cleaned_data']=last_data #adding data to the dataframe"
   ]
  },
  {
   "cell_type": "code",
   "execution_count": 85,
   "metadata": {},
   "outputs": [],
   "source": [
    "import re \n",
    "last_data=[] #create a empty list\n",
    "for i in data.tags: #creating loop for appending new tags\n",
    "    last_data.append(re.sub('[^A-Za-z#+-]+', ' ', i)) #append data to the dataframe after regularising the data"
   ]
  },
  {
   "cell_type": "markdown",
   "metadata": {},
   "source": [
    "# After Cleaning and Stemming the data"
   ]
  },
  {
   "cell_type": "code",
   "execution_count": 86,
   "metadata": {},
   "outputs": [
    {
     "data": {
      "text/html": [
       "<div>\n",
       "<style scoped>\n",
       "    .dataframe tbody tr th:only-of-type {\n",
       "        vertical-align: middle;\n",
       "    }\n",
       "\n",
       "    .dataframe tbody tr th {\n",
       "        vertical-align: top;\n",
       "    }\n",
       "\n",
       "    .dataframe thead th {\n",
       "        text-align: right;\n",
       "    }\n",
       "</style>\n",
       "<table border=\"1\" class=\"dataframe\">\n",
       "  <thead>\n",
       "    <tr style=\"text-align: right;\">\n",
       "      <th></th>\n",
       "      <th>title</th>\n",
       "      <th>tags</th>\n",
       "      <th>cleaned_data</th>\n",
       "      <th>cleaned_tags</th>\n",
       "    </tr>\n",
       "  </thead>\n",
       "  <tbody>\n",
       "    <tr>\n",
       "      <th>0</th>\n",
       "      <td>How to draw a stacked dotplot in R?</td>\n",
       "      <td>['r']</td>\n",
       "      <td>b'draw stack dotplot r'</td>\n",
       "      <td>r</td>\n",
       "    </tr>\n",
       "    <tr>\n",
       "      <th>1</th>\n",
       "      <td>mysql select all records where a datetime fiel...</td>\n",
       "      <td>['php', 'mysql']</td>\n",
       "      <td>b'mysql select record datetim field less speci...</td>\n",
       "      <td>php mysql</td>\n",
       "    </tr>\n",
       "    <tr>\n",
       "      <th>2</th>\n",
       "      <td>How to terminate windows phone 8.1 app</td>\n",
       "      <td>['c#']</td>\n",
       "      <td>b'termin window phone  app'</td>\n",
       "      <td>c#</td>\n",
       "    </tr>\n",
       "    <tr>\n",
       "      <th>3</th>\n",
       "      <td>get current time in a specific country via jquery</td>\n",
       "      <td>['javascript', 'jquery']</td>\n",
       "      <td>b'get current time specif countri via jqueri'</td>\n",
       "      <td>javascript jquery</td>\n",
       "    </tr>\n",
       "    <tr>\n",
       "      <th>4</th>\n",
       "      <td>Configuring Tomcat to Use SSL</td>\n",
       "      <td>['java']</td>\n",
       "      <td>b'configur tomcat use ssl'</td>\n",
       "      <td>java</td>\n",
       "    </tr>\n",
       "    <tr>\n",
       "      <th>5</th>\n",
       "      <td>Awesome nested set plugin - how to add new chi...</td>\n",
       "      <td>['ruby-on-rails']</td>\n",
       "      <td>b'awesom nest set plugin  add new children tre...</td>\n",
       "      <td>ruby-on-rails</td>\n",
       "    </tr>\n",
       "    <tr>\n",
       "      <th>6</th>\n",
       "      <td>How to create map from JSON response in Ruby o...</td>\n",
       "      <td>['ruby', 'ruby-on-rails-3', 'json']</td>\n",
       "      <td>b'creat map json respons rubi rail '</td>\n",
       "      <td>ruby ruby-on-rails- json</td>\n",
       "    </tr>\n",
       "    <tr>\n",
       "      <th>7</th>\n",
       "      <td>rspec test if method is called</td>\n",
       "      <td>['ruby']</td>\n",
       "      <td>b'rspec test method call'</td>\n",
       "      <td>ruby</td>\n",
       "    </tr>\n",
       "    <tr>\n",
       "      <th>8</th>\n",
       "      <td>SpringBoot Catalina LifeCycle Exception</td>\n",
       "      <td>['java', 'spring', 'spring-mvc']</td>\n",
       "      <td>b'springboot catalina lifecycl except'</td>\n",
       "      <td>java spring spring-mvc</td>\n",
       "    </tr>\n",
       "    <tr>\n",
       "      <th>9</th>\n",
       "      <td>How to import data from excel to mysql databas...</td>\n",
       "      <td>['php', 'codeigniter']</td>\n",
       "      <td>b'import data excel mysql databas use php'</td>\n",
       "      <td>php codeigniter</td>\n",
       "    </tr>\n",
       "  </tbody>\n",
       "</table>\n",
       "</div>"
      ],
      "text/plain": [
       "                                               title  \\\n",
       "0                How to draw a stacked dotplot in R?   \n",
       "1  mysql select all records where a datetime fiel...   \n",
       "2             How to terminate windows phone 8.1 app   \n",
       "3  get current time in a specific country via jquery   \n",
       "4                      Configuring Tomcat to Use SSL   \n",
       "5  Awesome nested set plugin - how to add new chi...   \n",
       "6  How to create map from JSON response in Ruby o...   \n",
       "7                     rspec test if method is called   \n",
       "8            SpringBoot Catalina LifeCycle Exception   \n",
       "9  How to import data from excel to mysql databas...   \n",
       "\n",
       "                                  tags  \\\n",
       "0                                ['r']   \n",
       "1                     ['php', 'mysql']   \n",
       "2                               ['c#']   \n",
       "3             ['javascript', 'jquery']   \n",
       "4                             ['java']   \n",
       "5                    ['ruby-on-rails']   \n",
       "6  ['ruby', 'ruby-on-rails-3', 'json']   \n",
       "7                             ['ruby']   \n",
       "8     ['java', 'spring', 'spring-mvc']   \n",
       "9               ['php', 'codeigniter']   \n",
       "\n",
       "                                        cleaned_data  \\\n",
       "0                            b'draw stack dotplot r'   \n",
       "1  b'mysql select record datetim field less speci...   \n",
       "2                        b'termin window phone  app'   \n",
       "3      b'get current time specif countri via jqueri'   \n",
       "4                         b'configur tomcat use ssl'   \n",
       "5  b'awesom nest set plugin  add new children tre...   \n",
       "6               b'creat map json respons rubi rail '   \n",
       "7                          b'rspec test method call'   \n",
       "8             b'springboot catalina lifecycl except'   \n",
       "9         b'import data excel mysql databas use php'   \n",
       "\n",
       "                 cleaned_tags  \n",
       "0                          r   \n",
       "1                  php mysql   \n",
       "2                         c#   \n",
       "3          javascript jquery   \n",
       "4                       java   \n",
       "5              ruby-on-rails   \n",
       "6   ruby ruby-on-rails- json   \n",
       "7                       ruby   \n",
       "8     java spring spring-mvc   \n",
       "9            php codeigniter   "
      ]
     },
     "execution_count": 86,
     "metadata": {},
     "output_type": "execute_result"
    }
   ],
   "source": [
    "data['cleaned_tags']=last_data #append new tags\n",
    "data.head(10) #printing the first 10 rows from data file"
   ]
  },
  {
   "cell_type": "code",
   "execution_count": 87,
   "metadata": {},
   "outputs": [],
   "source": [
    "from sklearn.feature_extraction.text import TransformerMixin #created for extracting the data\n"
   ]
  },
  {
   "cell_type": "code",
   "execution_count": 88,
   "metadata": {},
   "outputs": [],
   "source": [
    "data_frame=pd1.DataFrame() #created data frame\n",
    "data_frame['final_text']=data.cleaned_data #transferred text to the dataframe\n",
    "data_frame['final_tags']=data.cleaned_tags#transferred tags to the dataframe\n",
    "data_frame.to_csv('finaldataset',index=False) #transferring entire dataframe to the csv_file"
   ]
  },
  {
   "cell_type": "code",
   "execution_count": 89,
   "metadata": {},
   "outputs": [
    {
     "data": {
      "text/html": [
       "<div>\n",
       "<style scoped>\n",
       "    .dataframe tbody tr th:only-of-type {\n",
       "        vertical-align: middle;\n",
       "    }\n",
       "\n",
       "    .dataframe tbody tr th {\n",
       "        vertical-align: top;\n",
       "    }\n",
       "\n",
       "    .dataframe thead th {\n",
       "        text-align: right;\n",
       "    }\n",
       "</style>\n",
       "<table border=\"1\" class=\"dataframe\">\n",
       "  <thead>\n",
       "    <tr style=\"text-align: right;\">\n",
       "      <th></th>\n",
       "      <th>final_text</th>\n",
       "      <th>final_tags</th>\n",
       "    </tr>\n",
       "  </thead>\n",
       "  <tbody>\n",
       "    <tr>\n",
       "      <th>0</th>\n",
       "      <td>b'draw stack dotplot r'</td>\n",
       "      <td>r</td>\n",
       "    </tr>\n",
       "    <tr>\n",
       "      <th>1</th>\n",
       "      <td>b'mysql select record datetim field less speci...</td>\n",
       "      <td>php mysql</td>\n",
       "    </tr>\n",
       "    <tr>\n",
       "      <th>2</th>\n",
       "      <td>b'termin window phone  app'</td>\n",
       "      <td>c#</td>\n",
       "    </tr>\n",
       "    <tr>\n",
       "      <th>3</th>\n",
       "      <td>b'get current time specif countri via jqueri'</td>\n",
       "      <td>javascript jquery</td>\n",
       "    </tr>\n",
       "    <tr>\n",
       "      <th>4</th>\n",
       "      <td>b'configur tomcat use ssl'</td>\n",
       "      <td>java</td>\n",
       "    </tr>\n",
       "  </tbody>\n",
       "</table>\n",
       "</div>"
      ],
      "text/plain": [
       "                                          final_text           final_tags\n",
       "0                            b'draw stack dotplot r'                   r \n",
       "1  b'mysql select record datetim field less speci...           php mysql \n",
       "2                        b'termin window phone  app'                  c# \n",
       "3      b'get current time specif countri via jqueri'   javascript jquery \n",
       "4                         b'configur tomcat use ssl'                java "
      ]
     },
     "execution_count": 89,
     "metadata": {},
     "output_type": "execute_result"
    }
   ],
   "source": [
    "data=pd1.read_csv('finaldataset') #Reading the new csv_file\n",
    "data.head() #print top5 rows from file"
   ]
  },
  {
   "cell_type": "markdown",
   "metadata": {},
   "source": [
    "# Splitting of Dataset"
   ]
  },
  {
   "cell_type": "code",
   "execution_count": 90,
   "metadata": {},
   "outputs": [],
   "source": [
    "from sklearn.model_selection import train_test_split #used to split the data file\n",
    "#using data train the machine for utility purpose.\n",
    "x_train,x_test,y_train,y_test=train_test_split(data.final_text, data.final_tags, test_size=0.2, random_state=9) "
   ]
  },
  {
   "cell_type": "markdown",
   "metadata": {},
   "source": [
    "# Transforming Tags into Vectors"
   ]
  },
  {
   "cell_type": "code",
   "execution_count": 91,
   "metadata": {},
   "outputs": [],
   "source": [
    "from sklearn.feature_extraction.text import TfidfVectorizer,CountVectorizer #import vectorizers for predicting tags\n",
    "\n",
    "#it is used to convert the data into vector form\n",
    "tfvectorizer = TfidfVectorizer(min_df=0.00009, max_features=200000, smooth_idf=True, norm=\"l2\", \n",
    "                             tokenizer = lambda x: x.split(), sublinear_tf=False, ngram_range=(1,3)) \n",
    "\n",
    "x_train_multilabel = tfvectorizer.fit_transform(x_train) #using this vector form of data train the machine\n",
    "x_test_multilabel = tfvectorizer.transform(x_test) #using this vector form of data test the machine\n",
    "\n",
    "vectorizer = CountVectorizer(tokenizer = lambda x: x.split(), binary='true') \n",
    "\n",
    "y_train_multilabel = vectorizer.fit_transform(y_train)##using this vector form of remainign data train the machine\n",
    "y_test_multilabel = vectorizer.transform(y_test)##using this vector form of remainign data test the machine"
   ]
  },
  {
   "cell_type": "code",
   "execution_count": null,
   "metadata": {},
   "outputs": [],
   "source": []
  },
  {
   "cell_type": "markdown",
   "metadata": {},
   "source": [
    "# Train the Machine using One vs Rest classifier"
   ]
  },
  {
   "cell_type": "code",
   "execution_count": 92,
   "metadata": {},
   "outputs": [
    {
     "name": "stdout",
     "output_type": "stream",
     "text": [
      "accuracy : 0.33015\n",
      "macro f1 score : 0.4890587956547519\n",
      "micro f1 scoore : 0.6389074676082188\n",
      "Precision recall report :\n",
      "              precision    recall  f1-score   support\n",
      "\n",
      "          0       0.77      0.46      0.58       327\n",
      "          1       0.71      0.10      0.18        96\n",
      "          2       0.93      0.52      0.67       555\n",
      "          3       0.94      0.71      0.81       294\n",
      "          4       0.73      0.19      0.30        83\n",
      "          5       0.55      0.35      0.43       447\n",
      "          6       0.86      0.41      0.55       950\n",
      "          7       0.72      0.31      0.44       588\n",
      "          8       0.83      0.60      0.70      3763\n",
      "          9       0.89      0.47      0.61      1295\n",
      "         10       0.35      0.07      0.12        96\n",
      "         11       0.20      0.01      0.02       101\n",
      "         12       0.97      0.75      0.85       140\n",
      "         13       0.65      0.21      0.32       359\n",
      "         14       0.75      0.64      0.69        87\n",
      "         15       0.30      0.05      0.08       150\n",
      "         16       0.49      0.20      0.29       132\n",
      "         17       0.49      0.19      0.28       109\n",
      "         18       0.98      0.78      0.87       350\n",
      "         19       0.58      0.20      0.30        74\n",
      "         20       0.92      0.50      0.64       199\n",
      "         21       0.77      0.43      0.56       134\n",
      "         22       0.71      0.44      0.55        95\n",
      "         23       0.91      0.72      0.80        93\n",
      "         24       0.15      0.03      0.05       106\n",
      "         25       0.28      0.10      0.15       158\n",
      "         26       0.18      0.02      0.04        92\n",
      "         27       0.81      0.48      0.61        91\n",
      "         28       0.75      0.53      0.62        89\n",
      "         29       0.93      0.59      0.73       167\n",
      "         30       0.59      0.26      0.36      1073\n",
      "         31       0.21      0.06      0.09       135\n",
      "         32       0.66      0.36      0.47       654\n",
      "         33       0.60      0.22      0.32       390\n",
      "         34       0.94      0.67      0.78      3773\n",
      "         35       0.89      0.73      0.80      3821\n",
      "         36       0.85      0.50      0.62      1501\n",
      "         37       0.95      0.51      0.67       150\n",
      "         38       0.88      0.62      0.73       412\n",
      "         39       0.93      0.42      0.58       157\n",
      "         40       0.88      0.69      0.77       121\n",
      "         41       0.88      0.52      0.65       199\n",
      "         42       0.79      0.26      0.39       158\n",
      "         43       0.55      0.23      0.32       152\n",
      "         44       0.33      0.09      0.14        82\n",
      "         45       0.87      0.39      0.54        87\n",
      "         46       0.97      0.77      0.86        48\n",
      "         47       0.71      0.43      0.54       234\n",
      "         48       0.86      0.47      0.61       618\n",
      "         49       0.80      0.31      0.45      1697\n",
      "         50       0.69      0.34      0.46       252\n",
      "         51       0.94      0.50      0.65       150\n",
      "         52       0.93      0.43      0.59        90\n",
      "         53       0.88      0.54      0.67       865\n",
      "         54       0.33      0.03      0.05        79\n",
      "         55       1.00      0.73      0.84        77\n",
      "         56       0.67      0.26      0.37        86\n",
      "         57       1.00      0.75      0.86        77\n",
      "         58       0.35      0.08      0.14        71\n",
      "         59       0.27      0.07      0.11        92\n",
      "         60       0.94      0.70      0.81      2765\n",
      "         61       0.68      0.33      0.45        63\n",
      "         62       0.95      0.67      0.79      1772\n",
      "         63       0.13      0.01      0.02       153\n",
      "         64       0.89      0.50      0.64        96\n",
      "         65       0.95      0.67      0.79       369\n",
      "         66       0.84      0.65      0.73       282\n",
      "         67       0.80      0.44      0.56       101\n",
      "         68       0.80      0.42      0.55       473\n",
      "         69       0.91      0.67      0.77       668\n",
      "         70       0.28      0.05      0.09       138\n",
      "         71       0.85      0.68      0.75        88\n",
      "         72       0.76      0.44      0.55        85\n",
      "         73       0.52      0.35      0.42        86\n",
      "         74       0.83      0.49      0.61       111\n",
      "         75       0.53      0.28      0.37        82\n",
      "         76       0.82      0.56      0.66       295\n",
      "         77       0.83      0.38      0.52       140\n",
      "         78       0.64      0.14      0.24       291\n",
      "         79       0.57      0.27      0.37       115\n",
      "         80       0.46      0.19      0.27       322\n",
      "         81       0.98      0.64      0.77       299\n",
      "         82       0.92      0.47      0.62       169\n",
      "         83       0.77      0.54      0.64        94\n",
      "         84       0.78      0.60      0.68        84\n",
      "         85       0.52      0.40      0.45        83\n",
      "         86       0.44      0.20      0.28       120\n",
      "         87       0.97      0.40      0.56       412\n",
      "         88       0.45      0.09      0.15       109\n",
      "         89       0.20      0.01      0.02       110\n",
      "         90       1.00      0.68      0.81        59\n",
      "         91       0.67      0.39      0.49       118\n",
      "         92       0.32      0.03      0.06       183\n",
      "         93       0.66      0.25      0.36       300\n",
      "         94       0.97      0.77      0.86        97\n",
      "         95       0.91      0.57      0.70       259\n",
      "         96       0.09      0.01      0.03        68\n",
      "         97       0.60      0.25      0.36        71\n",
      "         98       0.70      0.16      0.26       186\n",
      "         99       0.76      0.52      0.62       253\n",
      "\n",
      "avg / total       0.81      0.51      0.62     40090\n",
      "\n"
     ]
    }
   ],
   "source": [
    "from sklearn.multiclass import OneVsRestClassifier #used to classify the given question for predicting tag\n",
    "\n",
    "from sklearn.linear_model import SGDClassifier #used to classify the given question for predicting tag\n",
    "\n",
    "from sklearn import metrics #used to classify the given question for predicting accuracy and others\n",
    "\n",
    "#used to classify the given question for predicting accuracy and others\n",
    "from sklearn.metrics import f1_score,precision_score,recall_score \n",
    "\n",
    "from sklearn import svm #it is a classifier used to classify the data\n",
    "\n",
    "from sklearn.linear_model import LogisticRegression #it is a classifier used to classify the data\n",
    "\n",
    "from sklearn.naive_bayes import GaussianNB #it is a classifier used to classify the data\n",
    "\n",
    "#provide penality for avoiding ovefitting in prediction\n",
    "classified_data= OneVsRestClassifier(SGDClassifier(loss='log', alpha=0.00001, penalty='l1'), n_jobs=-1)\n",
    "\n",
    "classified_data.fit(x_train_multilabel, y_train_multilabel) #classified data using the above mentioned classifier\n",
    "prediction_data = classified_data.predict(x_test_multilabel) #predict data using the above mentioned predictors\n",
    "\n",
    "print(\"accuracy :\",metrics.accuracy_score(y_test_multilabel,prediction_data)) #calculate accuracy\n",
    "print(\"macro f1 score :\",metrics.f1_score(y_test_multilabel, prediction_data, average = 'macro'))#calculate f1-score\n",
    "print(\"micro f1 scoore :\",metrics.f1_score(y_test_multilabel, prediction_data, average = 'micro'))#calculate f1-score\n",
    "\n",
    "#calculate entire classification report\n",
    "print(\"Precision recall report :\\n\",metrics.classification_report(y_test_multilabel, prediction_data))"
   ]
  },
  {
   "cell_type": "markdown",
   "metadata": {},
   "source": [
    "# Uploading Vectors Into Data file for Future purpose"
   ]
  },
  {
   "cell_type": "code",
   "execution_count": 93,
   "metadata": {},
   "outputs": [],
   "source": [
    "#dill extends python's pickle module for serializing and de-serializing python \n",
    "#objects to the majority of the built-in python types\n",
    "import dill \n",
    "model_data = 'model_data.sav' #used to save entire data in these file\n",
    "tfidf_data='tfidf_data.sav' #used to save entire tfidf_data in these file\n",
    "bow_data='bow_data.sav'    #used to save entire bow_data in these file\n",
    "dill.dump(classified_data, open(model_data, 'wb')) #save data in binary write mode\n",
    "dill.dump(tfvectorizer, open(tfidf_data, 'wb'))    #save data in binary write mode\n",
    "dill.dump(vectorizer, open(bow_data, 'wb'))      #save data in binary write mode"
   ]
  },
  {
   "cell_type": "code",
   "execution_count": null,
   "metadata": {},
   "outputs": [],
   "source": []
  }
 ],
 "metadata": {
  "kernelspec": {
   "display_name": "Python 3",
   "language": "python",
   "name": "python3"
  },
  "language_info": {
   "codemirror_mode": {
    "name": "ipython",
    "version": 3
   },
   "file_extension": ".py",
   "mimetype": "text/x-python",
   "name": "python",
   "nbconvert_exporter": "python",
   "pygments_lexer": "ipython3",
   "version": "3.6.4"
  }
 },
 "nbformat": 4,
 "nbformat_minor": 2
}
