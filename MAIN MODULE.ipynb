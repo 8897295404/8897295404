{
 "cells": [
  {
   "cell_type": "markdown",
   "metadata": {},
   "source": [
    "# Adding needed libraries\n",
    "**The below mentioned are the main libraries useful for data_preprocessing and data_extraction**"
   ]
  },
  {
   "cell_type": "code",
   "execution_count": 43,
   "metadata": {},
   "outputs": [],
   "source": [
    "import numpy as np\n",
    "import pandas as pd\n",
    "import random\n",
    "#Dill extends python's pickle module for serializing and de-serializing python objects to\n",
    "#the majority of the built-in python types\n",
    "import dill \n",
    "import re\n",
    "\n"
   ]
  },
  {
   "cell_type": "markdown",
   "metadata": {},
   "source": [
    "# Creating GUI Page "
   ]
  },
  {
   "cell_type": "code",
   "execution_count": 44,
   "metadata": {},
   "outputs": [
    {
     "data": {
      "text/plain": [
       "''"
      ]
     },
     "execution_count": 44,
     "metadata": {},
     "output_type": "execute_result"
    }
   ],
   "source": [
    "#Tkinter is used to create a GUI \n",
    "from tkinter import * \n",
    "#It is used to report the message\n",
    "from tkinter import messagebox as ms\n",
    "#used to show the Time\n",
    "import time\n",
    "root=Tk()  # Creating the root tkinter\n",
    "root.geometry(\"1200x850\")\n",
    "root.config(bg=\"cyan\")\n",
    "#Title of the my project\n",
    "root.title(\"AUTONOMOUS STACK OVERFLOW QUESTIONS\")"
   ]
  },
  {
   "cell_type": "code",
   "execution_count": 45,
   "metadata": {},
   "outputs": [],
   "source": [
    "#creating variable for taking the data\n",
    "input_entry=StringVar() \n",
    "#creating variable for showing out output\n",
    "input_output=StringVar() "
   ]
  },
  {
   "cell_type": "markdown",
   "metadata": {},
   "source": [
    "# Read the classifier,vectorizer data files in read mode\n"
   ]
  },
  {
   "cell_type": "code",
   "execution_count": 46,
   "metadata": {},
   "outputs": [],
   "source": [
    " #open the classifier_stored data file in binary read mode\n",
    "classifier = dill.load(open('model_data.sav', 'rb'))\n",
    " #open the tfvectorizer_data file in binary read mode\n",
    "tfvectorizer = dill.load(open('tfidf_data.sav', 'rb'))\n",
    "#open the Vectorizer_data file in binary read mode\n",
    "vectorizer = dill.load(open('bow_data.sav', 'rb')) "
   ]
  },
  {
   "cell_type": "markdown",
   "metadata": {},
   "source": [
    "# Pre_processing the data"
   ]
  },
  {
   "cell_type": "code",
   "execution_count": 47,
   "metadata": {},
   "outputs": [],
   "source": [
    "#It is regular expression used to preprocess the data\n",
    "import re\n",
    "#It is a natural language toolkit used to preprocess the data in file\n",
    "from nltk.corpus import stopwords \n",
    " #It is a natural language toolkit used to preprocess the data in file\n",
    "from nltk.stem.snowball import SnowballStemmer\n",
    "from nltk.stem.wordnet import WordNetLemmatizer\n",
    "\n",
    "#create a function for preprocessing the data\n",
    "def preprocessing(strin):\n",
    "    #convert data into string\n",
    "    strin=str(strin)  \n",
    "    #convert string into lower case\n",
    "    strin=strin.lower() \n",
    "    #removing html tags\n",
    "    html_data=re.compile('<.*?>')  \n",
    "    #after cleaning data it is stored in cleaned\n",
    "    cleaned_data = re.sub(html_data,' ',strin)\n",
    "    data_total=[]\n",
    "    #data is splitted to find the matching tags\n",
    "    for j in cleaned_data.split(): \n",
    "        if j!='c++':\n",
    "            #cleaned the data for removing hast tags and other extremes\n",
    "            cleaned_data=re.sub('[^A-Za-z]+', '', j)\n",
    "            #clened data append to the list\n",
    "            data_total.append(cleaned_data) \n",
    "        else:\n",
    "            #if clause is not matched and other data source is stored here\n",
    "            data_total.append(j) \n",
    "    return data_total\n",
    "#removing the stop_words in data\n",
    "stopped_data=set(stopwords.words('english')) \n",
    "sno_data=SnowballStemmer('english') \n",
    "\n",
    "#create a function for stemming the data\n",
    "def stem(strin): \n",
    "    #creating a empty list\n",
    "    data_total=[]  \n",
    "    #creating a loop for encoding the data\n",
    "    for _ in strin: \n",
    "        if _ not in stopped_data: \n",
    "             #encoding the data into a clean file\n",
    "            g=(sno_data.stem(_).encode('utf8'))\n",
    "            #appending the data\n",
    "            data_total.append(g)\n",
    "    #for our understanding of data before and after cleaning  appending 'b' to the data\n",
    "    g=b' '.join(data_total) \n",
    "    return g"
   ]
  },
  {
   "cell_type": "code",
   "execution_count": 48,
   "metadata": {},
   "outputs": [],
   "source": [
    "#This section is used to show the tag for asked question by the user\n",
    "def submit1(x):\n",
    "    print(\"Typed question for predicting tags:\",x)\n",
    "    l=[]\n",
    "    l.append(stem(preprocessing(x)))\n",
    "    print('After cleaning the question becomes:',l)\n",
    "    x1=tfvectorizer.transform(l)\n",
    "    t=classifier.predict(x1)\n",
    "    k=vectorizer.inverse_transform(t)\n",
    "    print('The tag for given question:',k)\n",
    "    "
   ]
  },
  {
   "cell_type": "markdown",
   "metadata": {},
   "source": [
    "# Creating Output Generated Page"
   ]
  },
  {
   "cell_type": "code",
   "execution_count": 49,
   "metadata": {},
   "outputs": [],
   "source": [
    "#In this section we create a GUI page\n",
    "#With multiple user options that are used by the user to ask a question and also get the output simultaneously.\n",
    "def atlastpage(x):\n",
    "    finalpage=Frame(root,bg=\"white\")\n",
    "    #Title of the page created\n",
    "    title=Label(finalpage,text=\"AUTONOMOUS TAGGING OF STACK OVERFLOW QUESTIONS\",font = ('freesansbold',30),padx=5,pady=5,bg=\"gold\",fg=\"red\")\n",
    "    title.grid(row=1, column=0,columnspan=4)\n",
    "    Underline=Label(finalpage,text=\"-----------------------------------------------------------------------------------------------------------\",bg='white',fg='red',font=('Arial 15 bold'))\n",
    "    Underline.grid(row=2,column=0,columnspan=4)\n",
    "    #Used to show the time in a GUI page\n",
    "    localtime=time.asctime(time.localtime(time.time()))\n",
    "    local=Label(finalpage,text=localtime,font=('Arial 20 bold'),bg='white',fg='blue')\n",
    "    local.grid(row=3,column=0,columnspan=4)\n",
    "    \n",
    "    \n",
    "    input_classes=Label(finalpage,text=\"OUTPUT FOR QUESTION \",font=(\"Arial 22 bold\"),bg=\"white\").grid(row=8, column=0,pady=3, sticky='W')\n",
    "    entry_input_class=Entry(finalpage,textvariable=input_output,bd=6,font =('calibri',30,'bold')).grid(row=8, column=1,columnspan=3)    \n",
    "\n",
    "    #Asking permission for further continue\n",
    "    Ask_permission=Label(finalpage,text=\"Do You want to continue further  Yes or No\",font=(\"Arial 30 bold\"),bg=\"cyan\")\n",
    "    Ask_permission.grid(row=14,column=1)\n",
    "    \n",
    "    #Created button used to return to home by pressing \"Return home button\"\n",
    "    return_button=Button(finalpage,text=\"RETURN HOME\",bg=\"yellow\",fg=\"red\",bd=5,height=1,width=15,relief=\"groove\",font=('Arial 20 bold'),command=lambda:(input_output.set(''),finalpage.destroy(),mainpage()))\n",
    "    return_button.grid(row=16, column=0)\n",
    "    \n",
    "    \n",
    "    Submit=Button(finalpage,text=\"YES\",font=(\"Arial 20 bold\"),bg=\"yellow\",bd=5,command=lambda:(input_output.set(''),takingdata(),finalpage.destroy()))\n",
    "    Submit.grid(row=15,column=1)\n",
    "    \n",
    "    #It is a button used to exit out of the programme\n",
    "    Exit=Button(finalpage,text=\"NO\",font=(\"Arial 20 bold\"),bg=\"yellow\",bd=5,command=lambda:(finalpage.destroy(),root.destroy()))\n",
    "    Exit.grid(row=15,column=2)\n",
    "    \n",
    "    l=[]\n",
    "    l.append(stem(preprocessing(x)))\n",
    "    x1=tfvectorizer.transform(l)\n",
    "    t=classifier.predict(x1)\n",
    "    k=vectorizer.inverse_transform(t)\n",
    "    input_output.set(k)\n",
    "    \n",
    "    finalpage.pack()"
   ]
  },
  {
   "cell_type": "code",
   "execution_count": 50,
   "metadata": {},
   "outputs": [],
   "source": [
    "#In this section we Pre_process entries enter by the user and also we perform Validation\n",
    "def inputsimulation():\n",
    "    amt =(input_entry.get())\n",
    "    print(amt)\n",
    "    if(len(input_entry.get())==0):\n",
    "        print('checked spaces')\n",
    "        ms.showinfo(\"OOPS!!\",\"NULL is not allowed\")\n",
    "        input_entry.set('')\n",
    "        takingdata()\n",
    "    else:\n",
    "        atlastpage(amt)"
   ]
  },
  {
   "cell_type": "markdown",
   "metadata": {},
   "source": [
    "# Creating data Taking Page"
   ]
  },
  {
   "cell_type": "code",
   "execution_count": 51,
   "metadata": {},
   "outputs": [],
   "source": [
    "#In this section ,data is taken from the user\n",
    "def takingdata():\n",
    "    datapage = Frame(root,bg=\"white\")\n",
    "    title=Label(datapage,text=\"AUTONOMOUS TAGGING OF STACK OVERFLOW QUESTIONS\",font = ('freesansbold',30),padx=5,pady=5,bg=\"gold\",fg=\"red\")\n",
    "    title.grid(row=1, column=0,columnspan=4)\n",
    "    Underline=Label(datapage,text=\"-----------------------------------------------------------------------------------------------------------\",bg='white',fg='red',font=('Arial 15 bold'))\n",
    "    Underline.grid(row=2,column=0,columnspan=4)\n",
    "    \n",
    "    localtime=time.asctime(time.localtime(time.time()))\n",
    "    local=Label(datapage,text=localtime,font=('Arial 20 bold'),bg='white',fg='blue')\n",
    "    local.grid(row=3,column=0,columnspan=4)\n",
    "    \n",
    "    suggestion=Label(datapage,text=\"Enter the details in the correct way:\",bg=\"white\",font=('Arial 22 bold'), fg=\"red\") \n",
    "    suggestion.grid(row=5, column=0,pady=30, sticky='W')\n",
    "    \n",
    "    network_input=Label(datapage,text=\"ENTER PREDICTING QUESTION \",font=(\"Arial 22 bold\"),bg=\"white\").grid(row=7, column=0,pady=3, sticky='W')\n",
    "    entry_network_input=Entry(datapage,textvariable=input_entry,bd=6,font =('calibri',30,'bold'),bg=\"white\").grid(row=7, column=1,columnspan=3)  \n",
    "     \n",
    "    return_button=Button(datapage,text=\"RETURN HOME\",bg=\"yellow\",fg=\"red\",bd=5,height=1,width=15,relief=\"groove\",font=('Arial 20 bold'),command=lambda:(input_entry.set(''),datapage.destroy(),mainpage()))\n",
    "    return_button.grid(row=16, column=0)\n",
    "\n",
    "    Process=Button(datapage,text=\"Predict Tag\",font=(\"Arial 25 bold\"),bg=\"yellow\",fg=\"red\",bd=6,command=lambda:(inputsimulation(),input_entry.set(''),datapage.destroy()))\n",
    "    Process.grid(row=13,column=1)\n",
    "    \n",
    "  \n",
    "    Exit=Button(datapage,text=\"EXIT\",font=(\"Arial 20 bold\"),bg=\"yellow\",bd=5,command=lambda:(datapage.destroy(),root.destroy()))\n",
    "    Exit.grid(row=16,column=2)\n",
    "     \n",
    "    datapage.pack()"
   ]
  },
  {
   "cell_type": "markdown",
   "metadata": {},
   "source": [
    "# Creating Mainpage"
   ]
  },
  {
   "cell_type": "code",
   "execution_count": 52,
   "metadata": {},
   "outputs": [],
   "source": [
    "\n",
    " ################################################ HOME PAGE ######################################   \n",
    "def mainpage():\n",
    "    homepage=Frame(root,bg=\"white\")\n",
    "    b1=Button(homepage,width=220,height=10,bg=\"red\")  \n",
    "    b1.pack(side=TOP)  \n",
    "    title=Button(homepage,text=\"AUTONOMOUS TAGGING OF STACK OVERFLOW QUESTIONS\",font=(\"Arial 20 bold\"),bg='cyan',fg='red') \n",
    "    title.place(in_= b1, relx = 0.5, rely = 0.5, anchor = CENTER) \n",
    "\n",
    "    localtime=time.asctime(time.localtime(time.time()))\n",
    "    local=Label(homepage,text=localtime,font=('Arial 20 bold'),bg='white',fg='blue')\n",
    "    local.place(in_= b1, relx = 0.5, rely = 0.8, anchor = CENTER)\n",
    "    \n",
    "    \n",
    "    \n",
    "    b11=Button(homepage,width=220,height=20,bg=\"gold\",bd=5) \n",
    "    b11.pack(side=TOP)\n",
    "    b2=Button(homepage,width=75,height=20,bg=\"blue\",bd=5) \n",
    "    b2.pack(in_=b11,side=LEFT)\n",
    "    b3=Button(homepage,width=70,height=20,bg=\"cyan\",bd=5)\n",
    "    b3.pack(in_=b11,side=LEFT)\n",
    "    b4=Button(homepage,width=75,height=20,bg=\"maroon1\",bd=5) \n",
    "    b4.pack(in_=b11,side=LEFT)\n",
    "    Participant2=Label(homepage,text='NAME:M.MADHUSUDHAN RAO\\n ROLL_NO:A_04 \\n Section:KM058 \\n REG_NO:11701856',font=('Arial 20 bold'),bg='white',fg='blue')\n",
    "    Participant2.place(in_= b3, relx = 0.1, rely = 0.4, anchor=W)\n",
    "\n",
    "    \n",
    "    b112=Button(homepage,width=220,height=20,bg=\"powderblue\",bd=5) \n",
    "    b112.pack(side=TOP)\n",
    "    \n",
    "    Participant4=Label(homepage,text='SUBMITTED TO\\n POOJA RANA\\n Section:KM058',font=('Arial 20 bold'),bg='white',fg='blue')\n",
    "    Participant4.place(in_= b112, relx = 0.1, rely = 0.5, anchor=W)\n",
    "    \n",
    "    Ask_permission=Label(homepage,text=\"Do You want to continue further  Yes or No\",font=(\"Arial 25 bold\"),bg=\"cyan\")\n",
    "    Ask_permission.place(in_= b112, relx = 0.5, rely = 0.4, anchor=W)\n",
    "    \n",
    "    Submit=Button(homepage,text=\"YES\",font=(\"Arial 25 bold\"),bg=\"yellow\",fg=\"red\",bd=6,command=lambda:(takingdata(),homepage.destroy()))\n",
    "    Submit.place(in_= b112, relx = 0.7, rely = 0.6, anchor=W)\n",
    "    \n",
    "    Exit=Button(homepage,text=\"NO\",font=(\"Arial 25 bold\"),bg=\"yellow\",fg=\"red\",bd=6,command=lambda:(homepage.destroy(),root.destroy()))\n",
    "    Exit.place(in_= b112, relx = 0.825, rely = 0.6, anchor=W)\n",
    "    \n",
    "    homepage.pack()   \n",
    "    \n",
    "    \n",
    "mainpage()\n",
    "root.mainloop()"
   ]
  },
  {
   "cell_type": "code",
   "execution_count": null,
   "metadata": {},
   "outputs": [],
   "source": []
  }
 ],
 "metadata": {
  "kernelspec": {
   "display_name": "Python 3",
   "language": "python",
   "name": "python3"
  },
  "language_info": {
   "codemirror_mode": {
    "name": "ipython",
    "version": 3
   },
   "file_extension": ".py",
   "mimetype": "text/x-python",
   "name": "python",
   "nbconvert_exporter": "python",
   "pygments_lexer": "ipython3",
   "version": "3.6.4"
  }
 },
 "nbformat": 4,
 "nbformat_minor": 2
}
