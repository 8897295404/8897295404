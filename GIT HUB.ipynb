{
 "cells": [
  {
   "cell_type": "code",
   "execution_count": 7,
   "metadata": {},
   "outputs": [],
   "source": [
    "import numpy as np\n",
    "import pandas as pd"
   ]
  },
  {
   "cell_type": "code",
   "execution_count": 8,
   "metadata": {},
   "outputs": [
    {
     "data": {
      "text/plain": [
       "''"
      ]
     },
     "execution_count": 8,
     "metadata": {},
     "output_type": "execute_result"
    }
   ],
   "source": [
    "from tkinter import * \n",
    "from tkinter import messagebox as msd\n",
    "import time\n",
    "pot=Tk()  # Creating the root tkinter\n",
    "pot.geometry(\"1200x850\")\n",
    "pot.config(bg=\"cyan\")\n",
    "pot.title(\"AUTONOMOUS STACK OVERFLOW QUESTIONS\")"
   ]
  },
  {
   "cell_type": "code",
   "execution_count": 9,
   "metadata": {},
   "outputs": [],
   "source": [
    "################################################ HOME PAGE ######################################   \n",
    "def mainpage():\n",
    "    homepage=Frame(pot,bg=\"white\")\n",
    "    b1=Button(homepage,width=220,height=10,bg=\"red\")  \n",
    "    b1.pack(side=TOP)  \n",
    "    title=Button(homepage,text=\"AUTONOMOUS STACK OVERFLOW QUESTIONS\",font=(\"Arial 20 bold\"),bg='cyan',fg='red') \n",
    "    title.place(in_= b1, relx = 0.5, rely = 0.5, anchor = CENTER) \n",
    "\n",
    "    localtime=time.asctime(time.localtime(time.time()))\n",
    "    local=Label(homepage,text=localtime,font=('Arial 20 bold'),bg='white',fg='blue')\n",
    "    local.place(in_= b1, relx = 0.5, rely = 0.8, anchor = CENTER)\n",
    "    \n",
    "    \n",
    "    b11=Button(homepage,width=220,height=20,bg=\"gold\",bd=5) \n",
    "    b11.pack(side=TOP)\n",
    "    b2=Button(homepage,width=75,height=20,bg=\"pink\",bd=5) \n",
    "    b2.pack(in_=b11,side=LEFT)\n",
    "    b3=Button(homepage,width=70,height=20,bg=\"cyan\",bd=5)\n",
    "    b3.pack(in_=b11,side=LEFT)\n",
    "    b4=Button(homepage,width=75,height=20,bg=\"maroon1\",bd=5) \n",
    "    b4.pack(in_=b11,side=LEFT)\n",
    "    Participant2=Label(homepage,text='NAME:M.MADHUSUDHAN RAO\\n ROLL_NO:A_04 \\n Section:KM058 \\n REG_NO:11701856',font=('Arial 20 bold'),bg='white',fg='blue')\n",
    "    Participant2.place(in_= b3, relx = 0.1, rely = 0.4, anchor=W)\n",
    "\n",
    "    \n",
    "    b112=Button(homepage,width=220,height=20,bg=\"powderblue\",bd=5) \n",
    "    b112.pack(side=TOP)\n",
    "    \n",
    "    Participant4=Label(homepage,text='SUBMITTED TO\\n POJA RAANA\\n Section:KM058',font=('Arial 20 bold'),bg='white',fg='blue')\n",
    "    Participant4.place(in_= b112, relx = 0.1, rely = 0.5, anchor=W)\n",
    "    \n",
    "    Ask_permission=Label(homepage,text=\"Do You want to continue further  Yes or No\",font=(\"Arial 25 bold\"),bg=\"cyan\")\n",
    "    Ask_permission.place(in_= b112, relx = 0.5, rely = 0.4, anchor=W)\n",
    "    \n",
    "    Submit=Button(homepage,text=\"YES\",font=(\"Arial 25 bold\"),bg=\"yellow\",fg=\"red\",bd=6,command=lambda:(homepage.destroy(),pot.destroy()))\n",
    "    Submit.place(in_= b112, relx = 0.7, rely = 0.6, anchor=W)\n",
    "    \n",
    "    Exit=Button(homepage,text=\"NO\",font=(\"Arial 25 bold\"),bg=\"yellow\",fg=\"red\",bd=6,command=lambda:(homepage.destroy(),pot.destroy()))\n",
    "    Exit.place(in_= b112, relx = 0.825, rely = 0.6, anchor=W)\n",
    "    \n",
    "    homepage.pack()   \n",
    "    \n",
    "    \n",
    "mainpage()\n",
    "pot.mainloop()"
   ]
  },
  {
   "cell_type": "code",
   "execution_count": null,
   "metadata": {},
   "outputs": [],
   "source": []
  }
 ],
 "metadata": {
  "kernelspec": {
   "display_name": "Python 3",
   "language": "python",
   "name": "python3"
  },
  "language_info": {
   "codemirror_mode": {
    "name": "ipython",
    "version": 3
   },
   "file_extension": ".py",
   "mimetype": "text/x-python",
   "name": "python",
   "nbconvert_exporter": "python",
   "pygments_lexer": "ipython3",
   "version": "3.6.4"
  }
 },
 "nbformat": 4,
 "nbformat_minor": 2
}
